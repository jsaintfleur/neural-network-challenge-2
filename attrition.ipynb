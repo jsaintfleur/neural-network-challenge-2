{
 "cells": [
  {
   "cell_type": "markdown",
   "metadata": {
    "id": "alIIEHibGc3M"
   },
   "source": [
    "## Part 1: Preprocessing"
   ]
  },
  {
   "cell_type": "code",
   "execution_count": 1,
   "metadata": {
    "colab": {
     "base_uri": "https://localhost:8080/",
     "height": 325
    },
    "executionInfo": {
     "elapsed": 12323,
     "status": "ok",
     "timestamp": 1730699226906,
     "user": {
      "displayName": "Alexander Booth",
      "userId": "02269714993535573104"
     },
     "user_tz": 360
    },
    "id": "6eDUJ4NtGc3P",
    "outputId": "eeae54b5-3d17-442d-94ba-00dd55b89964"
   },
   "outputs": [
    {
     "data": {
      "text/html": [
       "<div>\n",
       "<style scoped>\n",
       "    .dataframe tbody tr th:only-of-type {\n",
       "        vertical-align: middle;\n",
       "    }\n",
       "\n",
       "    .dataframe tbody tr th {\n",
       "        vertical-align: top;\n",
       "    }\n",
       "\n",
       "    .dataframe thead th {\n",
       "        text-align: right;\n",
       "    }\n",
       "</style>\n",
       "<table border=\"1\" class=\"dataframe\">\n",
       "  <thead>\n",
       "    <tr style=\"text-align: right;\">\n",
       "      <th></th>\n",
       "      <th>Age</th>\n",
       "      <th>Attrition</th>\n",
       "      <th>BusinessTravel</th>\n",
       "      <th>Department</th>\n",
       "      <th>DistanceFromHome</th>\n",
       "      <th>Education</th>\n",
       "      <th>EducationField</th>\n",
       "      <th>EnvironmentSatisfaction</th>\n",
       "      <th>HourlyRate</th>\n",
       "      <th>JobInvolvement</th>\n",
       "      <th>...</th>\n",
       "      <th>PerformanceRating</th>\n",
       "      <th>RelationshipSatisfaction</th>\n",
       "      <th>StockOptionLevel</th>\n",
       "      <th>TotalWorkingYears</th>\n",
       "      <th>TrainingTimesLastYear</th>\n",
       "      <th>WorkLifeBalance</th>\n",
       "      <th>YearsAtCompany</th>\n",
       "      <th>YearsInCurrentRole</th>\n",
       "      <th>YearsSinceLastPromotion</th>\n",
       "      <th>YearsWithCurrManager</th>\n",
       "    </tr>\n",
       "  </thead>\n",
       "  <tbody>\n",
       "    <tr>\n",
       "      <th>0</th>\n",
       "      <td>41</td>\n",
       "      <td>Yes</td>\n",
       "      <td>Travel_Rarely</td>\n",
       "      <td>Sales</td>\n",
       "      <td>1</td>\n",
       "      <td>2</td>\n",
       "      <td>Life Sciences</td>\n",
       "      <td>2</td>\n",
       "      <td>94</td>\n",
       "      <td>3</td>\n",
       "      <td>...</td>\n",
       "      <td>3</td>\n",
       "      <td>1</td>\n",
       "      <td>0</td>\n",
       "      <td>8</td>\n",
       "      <td>0</td>\n",
       "      <td>1</td>\n",
       "      <td>6</td>\n",
       "      <td>4</td>\n",
       "      <td>0</td>\n",
       "      <td>5</td>\n",
       "    </tr>\n",
       "    <tr>\n",
       "      <th>1</th>\n",
       "      <td>49</td>\n",
       "      <td>No</td>\n",
       "      <td>Travel_Frequently</td>\n",
       "      <td>Research &amp; Development</td>\n",
       "      <td>8</td>\n",
       "      <td>1</td>\n",
       "      <td>Life Sciences</td>\n",
       "      <td>3</td>\n",
       "      <td>61</td>\n",
       "      <td>2</td>\n",
       "      <td>...</td>\n",
       "      <td>4</td>\n",
       "      <td>4</td>\n",
       "      <td>1</td>\n",
       "      <td>10</td>\n",
       "      <td>3</td>\n",
       "      <td>3</td>\n",
       "      <td>10</td>\n",
       "      <td>7</td>\n",
       "      <td>1</td>\n",
       "      <td>7</td>\n",
       "    </tr>\n",
       "    <tr>\n",
       "      <th>2</th>\n",
       "      <td>37</td>\n",
       "      <td>Yes</td>\n",
       "      <td>Travel_Rarely</td>\n",
       "      <td>Research &amp; Development</td>\n",
       "      <td>2</td>\n",
       "      <td>2</td>\n",
       "      <td>Other</td>\n",
       "      <td>4</td>\n",
       "      <td>92</td>\n",
       "      <td>2</td>\n",
       "      <td>...</td>\n",
       "      <td>3</td>\n",
       "      <td>2</td>\n",
       "      <td>0</td>\n",
       "      <td>7</td>\n",
       "      <td>3</td>\n",
       "      <td>3</td>\n",
       "      <td>0</td>\n",
       "      <td>0</td>\n",
       "      <td>0</td>\n",
       "      <td>0</td>\n",
       "    </tr>\n",
       "    <tr>\n",
       "      <th>3</th>\n",
       "      <td>33</td>\n",
       "      <td>No</td>\n",
       "      <td>Travel_Frequently</td>\n",
       "      <td>Research &amp; Development</td>\n",
       "      <td>3</td>\n",
       "      <td>4</td>\n",
       "      <td>Life Sciences</td>\n",
       "      <td>4</td>\n",
       "      <td>56</td>\n",
       "      <td>3</td>\n",
       "      <td>...</td>\n",
       "      <td>3</td>\n",
       "      <td>3</td>\n",
       "      <td>0</td>\n",
       "      <td>8</td>\n",
       "      <td>3</td>\n",
       "      <td>3</td>\n",
       "      <td>8</td>\n",
       "      <td>7</td>\n",
       "      <td>3</td>\n",
       "      <td>0</td>\n",
       "    </tr>\n",
       "    <tr>\n",
       "      <th>4</th>\n",
       "      <td>27</td>\n",
       "      <td>No</td>\n",
       "      <td>Travel_Rarely</td>\n",
       "      <td>Research &amp; Development</td>\n",
       "      <td>2</td>\n",
       "      <td>1</td>\n",
       "      <td>Medical</td>\n",
       "      <td>1</td>\n",
       "      <td>40</td>\n",
       "      <td>3</td>\n",
       "      <td>...</td>\n",
       "      <td>3</td>\n",
       "      <td>4</td>\n",
       "      <td>1</td>\n",
       "      <td>6</td>\n",
       "      <td>3</td>\n",
       "      <td>3</td>\n",
       "      <td>2</td>\n",
       "      <td>2</td>\n",
       "      <td>2</td>\n",
       "      <td>2</td>\n",
       "    </tr>\n",
       "  </tbody>\n",
       "</table>\n",
       "<p>5 rows × 27 columns</p>\n",
       "</div>"
      ],
      "text/plain": [
       "   Age Attrition     BusinessTravel              Department  DistanceFromHome  \\\n",
       "0   41       Yes      Travel_Rarely                   Sales                 1   \n",
       "1   49        No  Travel_Frequently  Research & Development                 8   \n",
       "2   37       Yes      Travel_Rarely  Research & Development                 2   \n",
       "3   33        No  Travel_Frequently  Research & Development                 3   \n",
       "4   27        No      Travel_Rarely  Research & Development                 2   \n",
       "\n",
       "   Education EducationField  EnvironmentSatisfaction  HourlyRate  \\\n",
       "0          2  Life Sciences                        2          94   \n",
       "1          1  Life Sciences                        3          61   \n",
       "2          2          Other                        4          92   \n",
       "3          4  Life Sciences                        4          56   \n",
       "4          1        Medical                        1          40   \n",
       "\n",
       "   JobInvolvement  ...  PerformanceRating RelationshipSatisfaction  \\\n",
       "0               3  ...                  3                        1   \n",
       "1               2  ...                  4                        4   \n",
       "2               2  ...                  3                        2   \n",
       "3               3  ...                  3                        3   \n",
       "4               3  ...                  3                        4   \n",
       "\n",
       "   StockOptionLevel TotalWorkingYears  TrainingTimesLastYear WorkLifeBalance  \\\n",
       "0                 0                 8                      0               1   \n",
       "1                 1                10                      3               3   \n",
       "2                 0                 7                      3               3   \n",
       "3                 0                 8                      3               3   \n",
       "4                 1                 6                      3               3   \n",
       "\n",
       "   YearsAtCompany  YearsInCurrentRole  YearsSinceLastPromotion  \\\n",
       "0               6                   4                        0   \n",
       "1              10                   7                        1   \n",
       "2               0                   0                        0   \n",
       "3               8                   7                        3   \n",
       "4               2                   2                        2   \n",
       "\n",
       "   YearsWithCurrManager  \n",
       "0                     5  \n",
       "1                     7  \n",
       "2                     0  \n",
       "3                     0  \n",
       "4                     2  \n",
       "\n",
       "[5 rows x 27 columns]"
      ]
     },
     "execution_count": 1,
     "metadata": {},
     "output_type": "execute_result"
    }
   ],
   "source": [
    "# Import required libraries\n",
    "\n",
    "# Data Handling\n",
    "import pandas as pd\n",
    "import numpy as np\n",
    "\n",
    "# Data Preprocessing\n",
    "from sklearn.model_selection import train_test_split\n",
    "from sklearn.preprocessing import StandardScaler, OneHotEncoder, LabelEncoder\n",
    "\n",
    "# Deep Learning\n",
    "import tensorflow as tf\n",
    "from tensorflow.keras.models import Model\n",
    "from tensorflow.keras import layers, Input\n",
    "from tensorflow.keras.optimizers import Adam\n",
    "from tensorflow.keras.callbacks import EarlyStopping\n",
    "\n",
    "# Evaluation Metrics\n",
    "from sklearn.metrics import classification_report, accuracy_score\n",
    "\n",
    "# Visualization\n",
    "import matplotlib.pyplot as plt\n",
    "import seaborn as sns\n",
    "\n",
    "\n",
    "\n",
    "#  Import and read the attrition data\n",
    "attrition_df = pd.read_csv('https://static.bc-edx.com/ai/ail-v-1-0/m19/lms/datasets/attrition.csv')\n",
    "attrition_df.head()"
   ]
  },
  {
   "cell_type": "code",
   "execution_count": 2,
   "metadata": {
    "colab": {
     "base_uri": "https://localhost:8080/",
     "height": 930
    },
    "executionInfo": {
     "elapsed": 10,
     "status": "ok",
     "timestamp": 1730699226906,
     "user": {
      "displayName": "Alexander Booth",
      "userId": "02269714993535573104"
     },
     "user_tz": 360
    },
    "id": "g22aQSY4Gc3Q",
    "outputId": "e8b68509-45d8-42e0-a9db-1bdce48e4b2d"
   },
   "outputs": [
    {
     "data": {
      "text/plain": [
       "Age                         43\n",
       "Attrition                    2\n",
       "BusinessTravel               3\n",
       "Department                   3\n",
       "DistanceFromHome            29\n",
       "Education                    5\n",
       "EducationField               6\n",
       "EnvironmentSatisfaction      4\n",
       "HourlyRate                  71\n",
       "JobInvolvement               4\n",
       "JobLevel                     5\n",
       "JobRole                      9\n",
       "JobSatisfaction              4\n",
       "MaritalStatus                3\n",
       "NumCompaniesWorked          10\n",
       "OverTime                     2\n",
       "PercentSalaryHike           15\n",
       "PerformanceRating            2\n",
       "RelationshipSatisfaction     4\n",
       "StockOptionLevel             4\n",
       "TotalWorkingYears           40\n",
       "TrainingTimesLastYear        7\n",
       "WorkLifeBalance              4\n",
       "YearsAtCompany              37\n",
       "YearsInCurrentRole          19\n",
       "YearsSinceLastPromotion     16\n",
       "YearsWithCurrManager        18\n",
       "dtype: int64"
      ]
     },
     "execution_count": 2,
     "metadata": {},
     "output_type": "execute_result"
    }
   ],
   "source": [
    "# Determine the number of unique values in each column\n",
    "attrition_df.nunique()"
   ]
  },
  {
   "cell_type": "code",
   "execution_count": 3,
   "metadata": {
    "executionInfo": {
     "elapsed": 7,
     "status": "ok",
     "timestamp": 1730699226906,
     "user": {
      "displayName": "Alexander Booth",
      "userId": "02269714993535573104"
     },
     "user_tz": 360
    },
    "id": "50vMgBEnJbfM"
   },
   "outputs": [
    {
     "data": {
      "text/html": [
       "<div>\n",
       "<style scoped>\n",
       "    .dataframe tbody tr th:only-of-type {\n",
       "        vertical-align: middle;\n",
       "    }\n",
       "\n",
       "    .dataframe tbody tr th {\n",
       "        vertical-align: top;\n",
       "    }\n",
       "\n",
       "    .dataframe thead th {\n",
       "        text-align: right;\n",
       "    }\n",
       "</style>\n",
       "<table border=\"1\" class=\"dataframe\">\n",
       "  <thead>\n",
       "    <tr style=\"text-align: right;\">\n",
       "      <th></th>\n",
       "      <th>Attrition</th>\n",
       "      <th>Department</th>\n",
       "    </tr>\n",
       "  </thead>\n",
       "  <tbody>\n",
       "    <tr>\n",
       "      <th>0</th>\n",
       "      <td>Yes</td>\n",
       "      <td>Sales</td>\n",
       "    </tr>\n",
       "    <tr>\n",
       "      <th>1</th>\n",
       "      <td>No</td>\n",
       "      <td>Research &amp; Development</td>\n",
       "    </tr>\n",
       "    <tr>\n",
       "      <th>2</th>\n",
       "      <td>Yes</td>\n",
       "      <td>Research &amp; Development</td>\n",
       "    </tr>\n",
       "    <tr>\n",
       "      <th>3</th>\n",
       "      <td>No</td>\n",
       "      <td>Research &amp; Development</td>\n",
       "    </tr>\n",
       "    <tr>\n",
       "      <th>4</th>\n",
       "      <td>No</td>\n",
       "      <td>Research &amp; Development</td>\n",
       "    </tr>\n",
       "  </tbody>\n",
       "</table>\n",
       "</div>"
      ],
      "text/plain": [
       "  Attrition              Department\n",
       "0       Yes                   Sales\n",
       "1        No  Research & Development\n",
       "2       Yes  Research & Development\n",
       "3        No  Research & Development\n",
       "4        No  Research & Development"
      ]
     },
     "execution_count": 3,
     "metadata": {},
     "output_type": "execute_result"
    }
   ],
   "source": [
    "# Create y_df with the Attrition and Department columns\n",
    "# Create the target dataframe with Attrition and Department columns\n",
    "y_df = attrition_df[[\"Attrition\", \"Department\"]]\n",
    "\n",
    "# Display the first few rows to verify\n",
    "y_df.head()\n"
   ]
  },
  {
   "cell_type": "code",
   "execution_count": 5,
   "metadata": {
    "colab": {
     "base_uri": "https://localhost:8080/",
     "height": 397
    },
    "executionInfo": {
     "elapsed": 125,
     "status": "ok",
     "timestamp": 1730699227025,
     "user": {
      "displayName": "Alexander Booth",
      "userId": "02269714993535573104"
     },
     "user_tz": 360
    },
    "id": "Virka0zLGc3R",
    "outputId": "24f181c9-7e2e-42cb-94e8-a75842f1ab01"
   },
   "outputs": [
    {
     "name": "stdout",
     "output_type": "stream",
     "text": [
      "Education                   int64\n",
      "Age                         int64\n",
      "DistanceFromHome            int64\n",
      "JobSatisfaction             int64\n",
      "OverTime                   object\n",
      "StockOptionLevel            int64\n",
      "WorkLifeBalance             int64\n",
      "YearsAtCompany              int64\n",
      "YearsSinceLastPromotion     int64\n",
      "NumCompaniesWorked          int64\n",
      "dtype: object\n"
     ]
    }
   ],
   "source": [
    "# Define the list of selected feature columns\n",
    "X_columns = [\n",
    "    \"Education\",\n",
    "    \"Age\",\n",
    "    \"DistanceFromHome\",\n",
    "    \"JobSatisfaction\",\n",
    "    \"OverTime\",\n",
    "    \"StockOptionLevel\",\n",
    "    \"WorkLifeBalance\",\n",
    "    \"YearsAtCompany\",\n",
    "    \"YearsSinceLastPromotion\",\n",
    "    \"NumCompaniesWorked\"\n",
    "]\n",
    "\n",
    "# Create X_df with the selected columns\n",
    "X_df = attrition_df[X_columns]\n",
    "\n",
    "# Display the first few rows to verify\n",
    "X_df.head()\n",
    "\n",
    "# Display data types of X_df\n",
    "print(X_df.dtypes)\n",
    "\n"
   ]
  },
  {
   "cell_type": "code",
   "execution_count": 6,
   "metadata": {
    "executionInfo": {
     "elapsed": 9,
     "status": "ok",
     "timestamp": 1730699227025,
     "user": {
      "displayName": "Alexander Booth",
      "userId": "02269714993535573104"
     },
     "user_tz": 360
    },
    "id": "KaJfdOGUMHMR"
   },
   "outputs": [
    {
     "name": "stdout",
     "output_type": "stream",
     "text": [
      "Training Set Size: (1176, 10)\n",
      "Testing Set Size: (294, 10)\n"
     ]
    },
    {
     "name": "stderr",
     "output_type": "stream",
     "text": [
      "/var/folders/gg/vmh0mv_j5b90pkytkpd35k940000gn/T/ipykernel_3789/2812698479.py:3: SettingWithCopyWarning: \n",
      "A value is trying to be set on a copy of a slice from a DataFrame.\n",
      "Try using .loc[row_indexer,col_indexer] = value instead\n",
      "\n",
      "See the caveats in the documentation: https://pandas.pydata.org/pandas-docs/stable/user_guide/indexing.html#returning-a-view-versus-a-copy\n",
      "  X_df[\"OverTime\"] = label_encoder.fit_transform(X_df[\"OverTime\"])\n"
     ]
    }
   ],
   "source": [
    "# Encode categorical columns (OverTime)\n",
    "label_encoder = LabelEncoder()\n",
    "X_df[\"OverTime\"] = label_encoder.fit_transform(X_df[\"OverTime\"])\n",
    "\n",
    "\n",
    "# Define the target variables (y_df) and features (X_df)\n",
    "y_df = attrition_df[[\"Attrition\", \"Department\"]]  # Target variables\n",
    "\n",
    "# Perform train-test split (80% training, 20% testing)\n",
    "X_train, X_test, y_train, y_test = train_test_split(\n",
    "    X_df, y_df, test_size=0.2, random_state=42, stratify=y_df[\"Attrition\"]\n",
    ")\n",
    "\n",
    "# Display the sizes of training and testing sets\n",
    "print(f\"Training Set Size: {X_train.shape}\")\n",
    "print(f\"Testing Set Size: {X_test.shape}\")\n",
    "\n",
    "\n"
   ]
  },
  {
   "cell_type": "code",
   "execution_count": 7,
   "metadata": {
    "colab": {
     "base_uri": "https://localhost:8080/",
     "height": 178
    },
    "executionInfo": {
     "elapsed": 8,
     "status": "ok",
     "timestamp": 1730699227025,
     "user": {
      "displayName": "Alexander Booth",
      "userId": "02269714993535573104"
     },
     "user_tz": 360
    },
    "id": "NYubUJqiLCSp",
    "outputId": "6116187c-4afa-4d4a-aeb9-fdc2131d0d58"
   },
   "outputs": [
    {
     "name": "stdout",
     "output_type": "stream",
     "text": [
      "OverTime\n",
      "0    1054\n",
      "1     416\n",
      "Name: count, dtype: int64\n"
     ]
    }
   ],
   "source": [
    "# Convert your X data to numeric data types however you see fit\n",
    "# Add new code cells as necessary\n",
    "\n",
    "# Count occurrences of each unique value in the 'OverTime' column\n",
    "overtime_counts = X_df['OverTime'].value_counts()\n",
    "print(overtime_counts)\n"
   ]
  },
  {
   "cell_type": "code",
   "execution_count": 8,
   "metadata": {},
   "outputs": [
    {
     "name": "stdout",
     "output_type": "stream",
     "text": [
      "Missing values per column:\n",
      " Education                  0\n",
      "Age                        0\n",
      "DistanceFromHome           0\n",
      "JobSatisfaction            0\n",
      "OverTime                   0\n",
      "StockOptionLevel           0\n",
      "WorkLifeBalance            0\n",
      "YearsAtCompany             0\n",
      "YearsSinceLastPromotion    0\n",
      "NumCompaniesWorked         0\n",
      "dtype: int64\n",
      "\n",
      "Categorical Columns: ['OverTime']\n",
      "Numeric Columns: ['Education', 'Age', 'DistanceFromHome', 'JobSatisfaction', 'StockOptionLevel', 'WorkLifeBalance', 'YearsAtCompany', 'YearsSinceLastPromotion', 'NumCompaniesWorked']\n",
      "\n",
      "Updated Data Types:\n",
      " Education                  int64\n",
      "Age                        int64\n",
      "DistanceFromHome           int64\n",
      "JobSatisfaction            int64\n",
      "OverTime                   int64\n",
      "StockOptionLevel           int64\n",
      "WorkLifeBalance            int64\n",
      "YearsAtCompany             int64\n",
      "YearsSinceLastPromotion    int64\n",
      "NumCompaniesWorked         int64\n",
      "dtype: object\n",
      "\n",
      "Count of unique values in 'OverTime':\n",
      " OverTime\n",
      "0    1054\n",
      "1     416\n",
      "Name: count, dtype: int64\n"
     ]
    },
    {
     "name": "stderr",
     "output_type": "stream",
     "text": [
      "/var/folders/gg/vmh0mv_j5b90pkytkpd35k940000gn/T/ipykernel_3789/3211742997.py:16: SettingWithCopyWarning: \n",
      "A value is trying to be set on a copy of a slice from a DataFrame.\n",
      "Try using .loc[row_indexer,col_indexer] = value instead\n",
      "\n",
      "See the caveats in the documentation: https://pandas.pydata.org/pandas-docs/stable/user_guide/indexing.html#returning-a-view-versus-a-copy\n",
      "  X_df[col] = label_encoder.fit_transform(X_df[col])\n"
     ]
    }
   ],
   "source": [
    "# Check for missing values\n",
    "missing_values = X_df.isnull().sum()\n",
    "print(\"Missing values per column:\\n\", missing_values)\n",
    "\n",
    "# Identify categorical and numeric columns\n",
    "categorical_cols = [\"OverTime\"]  # 'OverTime' is categorical\n",
    "numeric_cols = [col for col in X_df.columns if col not in categorical_cols]\n",
    "\n",
    "print(\"\\nCategorical Columns:\", categorical_cols)\n",
    "print(\"Numeric Columns:\", numeric_cols)\n",
    "\n",
    "# Convert categorical columns using LabelEncoder\n",
    "label_encoder = LabelEncoder()\n",
    "\n",
    "for col in categorical_cols:\n",
    "    X_df[col] = label_encoder.fit_transform(X_df[col])\n",
    "\n",
    "# Verify transformation\n",
    "print(\"\\nUpdated Data Types:\\n\", X_df.dtypes)\n",
    "\n",
    "# Verify conversion by displaying unique values count\n",
    "overtime_counts = X_df['OverTime'].value_counts()\n",
    "print(\"\\nCount of unique values in 'OverTime':\\n\", overtime_counts)\n"
   ]
  },
  {
   "cell_type": "code",
   "execution_count": 9,
   "metadata": {
    "executionInfo": {
     "elapsed": 6,
     "status": "ok",
     "timestamp": 1730699227162,
     "user": {
      "displayName": "Alexander Booth",
      "userId": "02269714993535573104"
     },
     "user_tz": 360
    },
    "id": "EWA-aIA5Gc3T"
   },
   "outputs": [
    {
     "name": "stdout",
     "output_type": "stream",
     "text": [
      "\n",
      "Training Data Mean After Scaling:\n",
      " Education                  8.760944e-17\n",
      "Age                       -4.229421e-17\n",
      "DistanceFromHome          -4.682573e-17\n",
      "JobSatisfaction            1.601138e-16\n",
      "OverTime                   5.437827e-17\n",
      "StockOptionLevel          -3.927320e-17\n",
      "WorkLifeBalance           -6.948335e-17\n",
      "YearsAtCompany            -1.586033e-17\n",
      "YearsSinceLastPromotion   -9.667248e-17\n",
      "NumCompaniesWorked        -5.739929e-17\n",
      "dtype: float64\n",
      "\n",
      "Training Data Standard Deviation After Scaling:\n",
      " Education                  1.000425\n",
      "Age                        1.000425\n",
      "DistanceFromHome           1.000425\n",
      "JobSatisfaction            1.000425\n",
      "OverTime                   1.000425\n",
      "StockOptionLevel           1.000425\n",
      "WorkLifeBalance            1.000425\n",
      "YearsAtCompany             1.000425\n",
      "YearsSinceLastPromotion    1.000425\n",
      "NumCompaniesWorked         1.000425\n",
      "dtype: float64\n"
     ]
    }
   ],
   "source": [
    "# Initialize the StandardScaler\n",
    "scaler = StandardScaler()\n",
    "\n",
    "# Fit the scaler to the training data (X_train)\n",
    "scaler.fit(X_train)\n",
    "\n",
    "# Transform both training and testing data\n",
    "X_train_scaled = scaler.transform(X_train)\n",
    "X_test_scaled = scaler.transform(X_test)\n",
    "\n",
    "# Convert back to DataFrame for readability\n",
    "X_train_scaled = pd.DataFrame(X_train_scaled, columns=X_train.columns)\n",
    "X_test_scaled = pd.DataFrame(X_test_scaled, columns=X_test.columns)\n",
    "\n",
    "# Verify scaling: Mean should be around 0, Std Dev should be around 1\n",
    "print(\"\\nTraining Data Mean After Scaling:\\n\", X_train_scaled.mean())\n",
    "print(\"\\nTraining Data Standard Deviation After Scaling:\\n\", X_train_scaled.std())\n",
    "\n"
   ]
  },
  {
   "cell_type": "code",
   "execution_count": 12,
   "metadata": {
    "colab": {
     "base_uri": "https://localhost:8080/"
    },
    "executionInfo": {
     "elapsed": 99,
     "status": "ok",
     "timestamp": 1730699227256,
     "user": {
      "displayName": "Alexander Booth",
      "userId": "02269714993535573104"
     },
     "user_tz": 360
    },
    "id": "-z0Mky8vQSz4",
    "outputId": "5024d63f-7e4e-4a91-fb76-0b2c79c1bcfb"
   },
   "outputs": [
    {
     "name": "stdout",
     "output_type": "stream",
     "text": [
      "\n",
      "Encoded Department Columns:\n",
      " ['Department_Human Resources' 'Department_Research & Development'\n",
      " 'Department_Sales']\n",
      "\n",
      "First 5 rows of Encoded Training Data:\n",
      "       Department_Human Resources  Department_Research & Development  \\\n",
      "1194                         0.0                                0.0   \n",
      "128                          0.0                                1.0   \n",
      "810                          0.0                                0.0   \n",
      "478                          0.0                                0.0   \n",
      "491                          0.0                                1.0   \n",
      "\n",
      "      Department_Sales  \n",
      "1194               1.0  \n",
      "128                0.0  \n",
      "810                1.0  \n",
      "478                1.0  \n",
      "491                0.0  \n"
     ]
    }
   ],
   "source": [
    "# Create a OneHotEncoder for the Department column\n",
    "# Fit the encoder to the training data\n",
    "# Create two new variables by applying the encoder\n",
    "# to the training and testing data\n",
    "\n",
    "\n",
    "# Ensure 'Department' column exists and has no missing values\n",
    "if y_train[\"Department\"].isnull().sum() > 0 or y_test[\"Department\"].isnull().sum() > 0:\n",
    "    raise ValueError(\"Missing values detected in 'Department' column. Handle them before encoding.\")\n",
    "\n",
    "# Initialize OneHotEncoder\n",
    "dept_encoder = OneHotEncoder(sparse_output=False, handle_unknown='ignore')\n",
    "\n",
    "# Fit the encoder on the training department data\n",
    "dept_encoder.fit(y_train[[\"Department\"]])\n",
    "\n",
    "# Transform training and testing data\n",
    "y_train_dept_encoded = dept_encoder.transform(y_train[[\"Department\"]])\n",
    "y_test_dept_encoded = dept_encoder.transform(y_test[[\"Department\"]])\n",
    "\n",
    "# Convert to DataFrame\n",
    "dept_columns = dept_encoder.get_feature_names_out([\"Department\"])\n",
    "y_train_dept_encoded = pd.DataFrame(y_train_dept_encoded, columns=dept_columns, index=y_train.index)\n",
    "y_test_dept_encoded = pd.DataFrame(y_test_dept_encoded, columns=dept_columns, index=y_test.index)\n",
    "\n",
    "# Verify the transformation\n",
    "print(\"\\nEncoded Department Columns:\\n\", dept_columns)\n",
    "print(\"\\nFirst 5 rows of Encoded Training Data:\\n\", y_train_dept_encoded.head())\n",
    "\n"
   ]
  },
  {
   "cell_type": "code",
   "execution_count": 13,
   "metadata": {
    "colab": {
     "base_uri": "https://localhost:8080/"
    },
    "executionInfo": {
     "elapsed": 5,
     "status": "ok",
     "timestamp": 1730699227257,
     "user": {
      "displayName": "Alexander Booth",
      "userId": "02269714993535573104"
     },
     "user_tz": 360
    },
    "id": "-G4DSpvFRrk4",
    "outputId": "1821049e-a4f0-437f-b8a7-e415431fbdb0"
   },
   "outputs": [],
   "source": [
    "# Create a OneHotEncoder for the Attrition column\n",
    "# Fit the encoder to the training data\n",
    "# Create two new variables by applying the encoder\n",
    "# to the training and testing data\n",
    "\n",
    "# Initialize OneHotEncoder for Attrition\n",
    "attrition_encoder = OneHotEncoder(sparse_output=False, handle_unknown='ignore')\n",
    "\n",
    "# Fit the encoder on the training attrition data\n",
    "attrition_encoder.fit(y_train[[\"Attrition\"]])\n",
    "\n",
    "# Transform training and testing data\n",
    "y_train_attrition_encoded = attrition_encoder.transform(y_train[[\"Attrition\"]])\n",
    "y_test_attrition_encoded = attrition_encoder.transform(y_test[[\"Attrition\"]])\n",
    "\n"
   ]
  },
  {
   "cell_type": "markdown",
   "metadata": {
    "id": "ykNmu_WWGc3T"
   },
   "source": [
    "## Part 2: Create, Compile, and Train the Model"
   ]
  },
  {
   "cell_type": "code",
   "execution_count": 14,
   "metadata": {
    "executionInfo": {
     "elapsed": 309,
     "status": "ok",
     "timestamp": 1730699227563,
     "user": {
      "displayName": "Alexander Booth",
      "userId": "02269714993535573104"
     },
     "user_tz": 360
    },
    "id": "WUptZqmSGc3T"
   },
   "outputs": [],
   "source": [
    "# Find the number of columns in the X training data\n",
    "input_shape = X_train.shape[1]\n",
    "\n",
    "# Create the input layer\n",
    "input_layer = Input(shape=(input_shape,))\n",
    "\n",
    "# Create at least two shared hidden layers\n",
    "shared_layer1 = layers.Dense(64, activation='relu')(input_layer)\n",
    "shared_layer2 = layers.Dense(32, activation='relu')(shared_layer1)\n",
    "\n"
   ]
  },
  {
   "cell_type": "code",
   "execution_count": 15,
   "metadata": {
    "executionInfo": {
     "elapsed": 118,
     "status": "ok",
     "timestamp": 1730699227678,
     "user": {
      "displayName": "Alexander Booth",
      "userId": "02269714993535573104"
     },
     "user_tz": 360
    },
    "id": "JukjTm2yTEqd"
   },
   "outputs": [],
   "source": [
    "# Create a branch for Department with a hidden layer and an output layer\n",
    "\n",
    "# Create the hidden layer\n",
    "dept_hidden = layers.Dense(16, activation='relu')(shared_layer2)\n",
    "\n",
    "# Create the output layer\n",
    "dept_output = layers.Dense(y_train_dept_encoded.shape[1], activation='softmax', name=\"department_output\")(dept_hidden)\n",
    "\n"
   ]
  },
  {
   "cell_type": "code",
   "execution_count": 16,
   "metadata": {
    "executionInfo": {
     "elapsed": 9,
     "status": "ok",
     "timestamp": 1730699227679,
     "user": {
      "displayName": "Alexander Booth",
      "userId": "02269714993535573104"
     },
     "user_tz": 360
    },
    "id": "9OqhUiOJUBkR"
   },
   "outputs": [],
   "source": [
    "# Create a branch for Attrition with a hidden layer and an output layer\n",
    "\n",
    "# Create the hidden layer\n",
    "attrition_hidden = layers.Dense(8, activation='relu')(shared_layer2)\n",
    "\n",
    "# Create the output layer\n",
    "attrition_output = layers.Dense(y_train_attrition_encoded.shape[1], activation='softmax', name=\"attrition_output\")(attrition_hidden)\n",
    "\n"
   ]
  },
  {
   "cell_type": "code",
   "execution_count": 18,
   "metadata": {
    "colab": {
     "base_uri": "https://localhost:8080/",
     "height": 361
    },
    "executionInfo": {
     "elapsed": 108,
     "status": "ok",
     "timestamp": 1730699227780,
     "user": {
      "displayName": "Alexander Booth",
      "userId": "02269714993535573104"
     },
     "user_tz": 360
    },
    "id": "twmuejdxGc3T",
    "outputId": "dd9ce242-6a66-4709-ba13-4b13551c22e0"
   },
   "outputs": [
    {
     "name": "stdout",
     "output_type": "stream",
     "text": [
      "Model: \"functional\"\n",
      "__________________________________________________________________________________________________\n",
      " Layer (type)                   Output Shape         Param #     Connected to                     \n",
      "==================================================================================================\n",
      " input_1 (InputLayer)           [(None, 10)]         0           []                               \n",
      "                                                                                                  \n",
      " dense (Dense)                  (None, 64)           704         ['input_1[0][0]']                \n",
      "                                                                                                  \n",
      " dense_1 (Dense)                (None, 32)           2080        ['dense[0][0]']                  \n",
      "                                                                                                  \n",
      " dense_3 (Dense)                (None, 8)            264         ['dense_1[0][0]']                \n",
      "                                                                                                  \n",
      " dense_2 (Dense)                (None, 16)           528         ['dense_1[0][0]']                \n",
      "                                                                                                  \n",
      " attrition_output (Dense)       (None, 2)            18          ['dense_3[0][0]']                \n",
      "                                                                                                  \n",
      " department_output (Dense)      (None, 3)            51          ['dense_2[0][0]']                \n",
      "                                                                                                  \n",
      "==================================================================================================\n",
      "Total params: 3,645\n",
      "Trainable params: 3,645\n",
      "Non-trainable params: 0\n",
      "__________________________________________________________________________________________________\n"
     ]
    }
   ],
   "source": [
    "# Ensure 'department_output' is defined\n",
    "# Create the model\n",
    "model = Model(inputs=input_layer, outputs=[attrition_output, dept_output], name=\"functional\")\n",
    "\n",
    "# Compile the model\n",
    "model.compile(optimizer='adam',\n",
    "              loss={'attrition_output': 'categorical_crossentropy', \n",
    "                    'department_output': 'categorical_crossentropy'},\n",
    "              metrics={'attrition_output': 'accuracy', \n",
    "                       'department_output': 'accuracy'})\n",
    "\n",
    "# Summarize the model\n",
    "model.summary()\n",
    "\n"
   ]
  },
  {
   "cell_type": "code",
   "execution_count": 21,
   "metadata": {
    "colab": {
     "base_uri": "https://localhost:8080/"
    },
    "executionInfo": {
     "elapsed": 31740,
     "status": "ok",
     "timestamp": 1730699259517,
     "user": {
      "displayName": "Alexander Booth",
      "userId": "02269714993535573104"
     },
     "user_tz": 360
    },
    "id": "c8oGy0dpGc3U",
    "outputId": "f48a5292-426f-4715-ea6e-381a8e9d5542"
   },
   "outputs": [
    {
     "name": "stdout",
     "output_type": "stream",
     "text": [
      "Epoch 1/100\n"
     ]
    },
    {
     "name": "stderr",
     "output_type": "stream",
     "text": [
      "2025-02-09 14:35:09.368108: W tensorflow/tsl/platform/profile_utils/cpu_utils.cc:128] Failed to get CPU frequency: 0 Hz\n"
     ]
    },
    {
     "name": "stdout",
     "output_type": "stream",
     "text": [
      "37/37 [==============================] - 1s 4ms/step - loss: 1.6581 - attrition_output_loss: 0.7668 - department_output_loss: 0.8913 - attrition_output_accuracy: 0.3053 - department_output_accuracy: 0.6412 - val_loss: 1.5144 - val_attrition_output_loss: 0.6869 - val_department_output_loss: 0.8275 - val_attrition_output_accuracy: 0.6293 - val_department_output_accuracy: 0.6701\n",
      "Epoch 2/100\n",
      "37/37 [==============================] - 0s 1ms/step - loss: 1.4630 - attrition_output_loss: 0.6640 - department_output_loss: 0.7990 - attrition_output_accuracy: 0.8078 - department_output_accuracy: 0.6497 - val_loss: 1.4515 - val_attrition_output_loss: 0.6496 - val_department_output_loss: 0.8019 - val_attrition_output_accuracy: 0.8401 - val_department_output_accuracy: 0.6701\n",
      "Epoch 3/100\n",
      "37/37 [==============================] - 0s 1ms/step - loss: 1.4100 - attrition_output_loss: 0.6293 - department_output_loss: 0.7807 - attrition_output_accuracy: 0.8410 - department_output_accuracy: 0.6497 - val_loss: 1.3990 - val_attrition_output_loss: 0.5971 - val_department_output_loss: 0.8019 - val_attrition_output_accuracy: 0.8401 - val_department_output_accuracy: 0.6701\n",
      "Epoch 4/100\n",
      "37/37 [==============================] - 0s 1ms/step - loss: 1.3127 - attrition_output_loss: 0.5380 - department_output_loss: 0.7747 - attrition_output_accuracy: 0.8384 - department_output_accuracy: 0.6497 - val_loss: 1.2933 - val_attrition_output_loss: 0.4875 - val_department_output_loss: 0.8058 - val_attrition_output_accuracy: 0.8401 - val_department_output_accuracy: 0.6701\n",
      "Epoch 5/100\n",
      "37/37 [==============================] - 0s 1ms/step - loss: 1.2137 - attrition_output_loss: 0.4453 - department_output_loss: 0.7684 - attrition_output_accuracy: 0.8384 - department_output_accuracy: 0.6497 - val_loss: 1.2391 - val_attrition_output_loss: 0.4351 - val_department_output_loss: 0.8039 - val_attrition_output_accuracy: 0.8401 - val_department_output_accuracy: 0.6701\n",
      "Epoch 6/100\n",
      "37/37 [==============================] - 0s 1ms/step - loss: 1.1697 - attrition_output_loss: 0.4074 - department_output_loss: 0.7623 - attrition_output_accuracy: 0.8384 - department_output_accuracy: 0.6497 - val_loss: 1.2169 - val_attrition_output_loss: 0.4140 - val_department_output_loss: 0.8029 - val_attrition_output_accuracy: 0.8401 - val_department_output_accuracy: 0.6701\n",
      "Epoch 7/100\n",
      "37/37 [==============================] - 0s 1ms/step - loss: 1.1368 - attrition_output_loss: 0.3798 - department_output_loss: 0.7569 - attrition_output_accuracy: 0.8554 - department_output_accuracy: 0.6497 - val_loss: 1.2052 - val_attrition_output_loss: 0.4003 - val_department_output_loss: 0.8049 - val_attrition_output_accuracy: 0.8673 - val_department_output_accuracy: 0.6701\n",
      "Epoch 8/100\n",
      "37/37 [==============================] - 0s 1ms/step - loss: 1.1131 - attrition_output_loss: 0.3608 - department_output_loss: 0.7524 - attrition_output_accuracy: 0.8597 - department_output_accuracy: 0.6497 - val_loss: 1.2071 - val_attrition_output_loss: 0.4012 - val_department_output_loss: 0.8059 - val_attrition_output_accuracy: 0.8639 - val_department_output_accuracy: 0.6701\n",
      "Epoch 9/100\n",
      "37/37 [==============================] - 0s 1ms/step - loss: 1.0991 - attrition_output_loss: 0.3513 - department_output_loss: 0.7478 - attrition_output_accuracy: 0.8690 - department_output_accuracy: 0.6497 - val_loss: 1.2154 - val_attrition_output_loss: 0.4047 - val_department_output_loss: 0.8107 - val_attrition_output_accuracy: 0.8571 - val_department_output_accuracy: 0.6701\n",
      "Epoch 10/100\n",
      "37/37 [==============================] - 0s 1ms/step - loss: 1.0820 - attrition_output_loss: 0.3417 - department_output_loss: 0.7403 - attrition_output_accuracy: 0.8682 - department_output_accuracy: 0.6497 - val_loss: 1.2180 - val_attrition_output_loss: 0.4084 - val_department_output_loss: 0.8096 - val_attrition_output_accuracy: 0.8537 - val_department_output_accuracy: 0.6701\n",
      "Epoch 11/100\n",
      "37/37 [==============================] - 0s 1ms/step - loss: 1.0730 - attrition_output_loss: 0.3351 - department_output_loss: 0.7380 - attrition_output_accuracy: 0.8733 - department_output_accuracy: 0.6497 - val_loss: 1.2216 - val_attrition_output_loss: 0.4094 - val_department_output_loss: 0.8122 - val_attrition_output_accuracy: 0.8503 - val_department_output_accuracy: 0.6667\n",
      "Epoch 12/100\n",
      "37/37 [==============================] - 0s 1ms/step - loss: 1.0638 - attrition_output_loss: 0.3295 - department_output_loss: 0.7343 - attrition_output_accuracy: 0.8733 - department_output_accuracy: 0.6505 - val_loss: 1.2221 - val_attrition_output_loss: 0.4077 - val_department_output_loss: 0.8144 - val_attrition_output_accuracy: 0.8605 - val_department_output_accuracy: 0.6667\n",
      "Epoch 13/100\n",
      "37/37 [==============================] - 0s 1ms/step - loss: 1.0509 - attrition_output_loss: 0.3227 - department_output_loss: 0.7283 - attrition_output_accuracy: 0.8784 - department_output_accuracy: 0.6505 - val_loss: 1.2288 - val_attrition_output_loss: 0.4138 - val_department_output_loss: 0.8150 - val_attrition_output_accuracy: 0.8503 - val_department_output_accuracy: 0.6667\n",
      "Epoch 14/100\n",
      "37/37 [==============================] - 0s 1ms/step - loss: 1.0485 - attrition_output_loss: 0.3222 - department_output_loss: 0.7262 - attrition_output_accuracy: 0.8767 - department_output_accuracy: 0.6497 - val_loss: 1.2303 - val_attrition_output_loss: 0.4135 - val_department_output_loss: 0.8168 - val_attrition_output_accuracy: 0.8537 - val_department_output_accuracy: 0.6667\n",
      "Epoch 15/100\n",
      "37/37 [==============================] - 0s 1ms/step - loss: 1.0384 - attrition_output_loss: 0.3155 - department_output_loss: 0.7229 - attrition_output_accuracy: 0.8767 - department_output_accuracy: 0.6497 - val_loss: 1.2353 - val_attrition_output_loss: 0.4163 - val_department_output_loss: 0.8190 - val_attrition_output_accuracy: 0.8435 - val_department_output_accuracy: 0.6667\n",
      "Epoch 16/100\n",
      "37/37 [==============================] - 0s 1ms/step - loss: 1.0301 - attrition_output_loss: 0.3118 - department_output_loss: 0.7183 - attrition_output_accuracy: 0.8810 - department_output_accuracy: 0.6505 - val_loss: 1.2481 - val_attrition_output_loss: 0.4239 - val_department_output_loss: 0.8242 - val_attrition_output_accuracy: 0.8469 - val_department_output_accuracy: 0.6599\n",
      "Epoch 17/100\n",
      "37/37 [==============================] - 0s 1ms/step - loss: 1.0270 - attrition_output_loss: 0.3123 - department_output_loss: 0.7146 - attrition_output_accuracy: 0.8759 - department_output_accuracy: 0.6531 - val_loss: 1.2451 - val_attrition_output_loss: 0.4246 - val_department_output_loss: 0.8205 - val_attrition_output_accuracy: 0.8469 - val_department_output_accuracy: 0.6667\n",
      "Epoch 18/100\n",
      "37/37 [==============================] - 0s 1ms/step - loss: 1.0106 - attrition_output_loss: 0.3039 - department_output_loss: 0.7067 - attrition_output_accuracy: 0.8801 - department_output_accuracy: 0.6531 - val_loss: 1.2412 - val_attrition_output_loss: 0.4194 - val_department_output_loss: 0.8218 - val_attrition_output_accuracy: 0.8469 - val_department_output_accuracy: 0.6701\n",
      "Epoch 19/100\n",
      "37/37 [==============================] - 0s 1ms/step - loss: 1.0029 - attrition_output_loss: 0.3003 - department_output_loss: 0.7026 - attrition_output_accuracy: 0.8801 - department_output_accuracy: 0.6531 - val_loss: 1.2524 - val_attrition_output_loss: 0.4278 - val_department_output_loss: 0.8246 - val_attrition_output_accuracy: 0.8469 - val_department_output_accuracy: 0.6667\n",
      "Epoch 20/100\n",
      "37/37 [==============================] - 0s 1ms/step - loss: 0.9955 - attrition_output_loss: 0.2978 - department_output_loss: 0.6976 - attrition_output_accuracy: 0.8818 - department_output_accuracy: 0.6565 - val_loss: 1.2541 - val_attrition_output_loss: 0.4256 - val_department_output_loss: 0.8285 - val_attrition_output_accuracy: 0.8503 - val_department_output_accuracy: 0.6701\n",
      "Epoch 21/100\n",
      "37/37 [==============================] - 0s 1ms/step - loss: 0.9868 - attrition_output_loss: 0.2945 - department_output_loss: 0.6923 - attrition_output_accuracy: 0.8903 - department_output_accuracy: 0.6582 - val_loss: 1.2599 - val_attrition_output_loss: 0.4286 - val_department_output_loss: 0.8313 - val_attrition_output_accuracy: 0.8469 - val_department_output_accuracy: 0.6531\n",
      "Epoch 22/100\n",
      "37/37 [==============================] - 0s 1ms/step - loss: 0.9806 - attrition_output_loss: 0.2902 - department_output_loss: 0.6904 - attrition_output_accuracy: 0.8852 - department_output_accuracy: 0.6633 - val_loss: 1.2689 - val_attrition_output_loss: 0.4354 - val_department_output_loss: 0.8335 - val_attrition_output_accuracy: 0.8469 - val_department_output_accuracy: 0.6395\n",
      "Epoch 23/100\n",
      "37/37 [==============================] - 0s 1ms/step - loss: 0.9732 - attrition_output_loss: 0.2884 - department_output_loss: 0.6848 - attrition_output_accuracy: 0.8895 - department_output_accuracy: 0.6624 - val_loss: 1.2650 - val_attrition_output_loss: 0.4292 - val_department_output_loss: 0.8358 - val_attrition_output_accuracy: 0.8503 - val_department_output_accuracy: 0.6497\n",
      "Epoch 24/100\n",
      "37/37 [==============================] - 0s 1ms/step - loss: 0.9674 - attrition_output_loss: 0.2872 - department_output_loss: 0.6801 - attrition_output_accuracy: 0.8869 - department_output_accuracy: 0.6701 - val_loss: 1.2801 - val_attrition_output_loss: 0.4387 - val_department_output_loss: 0.8414 - val_attrition_output_accuracy: 0.8333 - val_department_output_accuracy: 0.6531\n",
      "Epoch 25/100\n",
      "37/37 [==============================] - 0s 1ms/step - loss: 0.9540 - attrition_output_loss: 0.2814 - department_output_loss: 0.6726 - attrition_output_accuracy: 0.8937 - department_output_accuracy: 0.6701 - val_loss: 1.2786 - val_attrition_output_loss: 0.4378 - val_department_output_loss: 0.8407 - val_attrition_output_accuracy: 0.8401 - val_department_output_accuracy: 0.6361\n",
      "Epoch 26/100\n",
      "37/37 [==============================] - 0s 1ms/step - loss: 0.9481 - attrition_output_loss: 0.2796 - department_output_loss: 0.6685 - attrition_output_accuracy: 0.8954 - department_output_accuracy: 0.6828 - val_loss: 1.2806 - val_attrition_output_loss: 0.4311 - val_department_output_loss: 0.8495 - val_attrition_output_accuracy: 0.8469 - val_department_output_accuracy: 0.6463\n",
      "Epoch 27/100\n",
      "37/37 [==============================] - 0s 1ms/step - loss: 0.9379 - attrition_output_loss: 0.2758 - department_output_loss: 0.6621 - attrition_output_accuracy: 0.9014 - department_output_accuracy: 0.6777 - val_loss: 1.2956 - val_attrition_output_loss: 0.4411 - val_department_output_loss: 0.8545 - val_attrition_output_accuracy: 0.8503 - val_department_output_accuracy: 0.6224\n",
      "Epoch 28/100\n",
      "37/37 [==============================] - 0s 2ms/step - loss: 0.9304 - attrition_output_loss: 0.2713 - department_output_loss: 0.6591 - attrition_output_accuracy: 0.8997 - department_output_accuracy: 0.6811 - val_loss: 1.3013 - val_attrition_output_loss: 0.4429 - val_department_output_loss: 0.8584 - val_attrition_output_accuracy: 0.8435 - val_department_output_accuracy: 0.6293\n",
      "Epoch 29/100\n",
      "37/37 [==============================] - 0s 1ms/step - loss: 0.9228 - attrition_output_loss: 0.2706 - department_output_loss: 0.6523 - attrition_output_accuracy: 0.8963 - department_output_accuracy: 0.6905 - val_loss: 1.2992 - val_attrition_output_loss: 0.4456 - val_department_output_loss: 0.8536 - val_attrition_output_accuracy: 0.8435 - val_department_output_accuracy: 0.6293\n",
      "Epoch 30/100\n",
      "37/37 [==============================] - 0s 1ms/step - loss: 0.9112 - attrition_output_loss: 0.2658 - department_output_loss: 0.6454 - attrition_output_accuracy: 0.9039 - department_output_accuracy: 0.6888 - val_loss: 1.3055 - val_attrition_output_loss: 0.4476 - val_department_output_loss: 0.8580 - val_attrition_output_accuracy: 0.8435 - val_department_output_accuracy: 0.6224\n",
      "Epoch 31/100\n",
      "37/37 [==============================] - 0s 1ms/step - loss: 0.9047 - attrition_output_loss: 0.2646 - department_output_loss: 0.6401 - attrition_output_accuracy: 0.9048 - department_output_accuracy: 0.6939 - val_loss: 1.3079 - val_attrition_output_loss: 0.4444 - val_department_output_loss: 0.8635 - val_attrition_output_accuracy: 0.8435 - val_department_output_accuracy: 0.6327\n",
      "Epoch 32/100\n",
      "37/37 [==============================] - 0s 1ms/step - loss: 0.8956 - attrition_output_loss: 0.2606 - department_output_loss: 0.6350 - attrition_output_accuracy: 0.9048 - department_output_accuracy: 0.7041 - val_loss: 1.3163 - val_attrition_output_loss: 0.4467 - val_department_output_loss: 0.8695 - val_attrition_output_accuracy: 0.8401 - val_department_output_accuracy: 0.6293\n",
      "Epoch 33/100\n",
      "37/37 [==============================] - 0s 1ms/step - loss: 0.8853 - attrition_output_loss: 0.2585 - department_output_loss: 0.6268 - attrition_output_accuracy: 0.9065 - department_output_accuracy: 0.7058 - val_loss: 1.3298 - val_attrition_output_loss: 0.4585 - val_department_output_loss: 0.8713 - val_attrition_output_accuracy: 0.8401 - val_department_output_accuracy: 0.6259\n",
      "Epoch 34/100\n",
      "37/37 [==============================] - 0s 1ms/step - loss: 0.8797 - attrition_output_loss: 0.2569 - department_output_loss: 0.6228 - attrition_output_accuracy: 0.9022 - department_output_accuracy: 0.7024 - val_loss: 1.3191 - val_attrition_output_loss: 0.4518 - val_department_output_loss: 0.8673 - val_attrition_output_accuracy: 0.8367 - val_department_output_accuracy: 0.6224\n",
      "Epoch 35/100\n",
      "37/37 [==============================] - 0s 1ms/step - loss: 0.8680 - attrition_output_loss: 0.2533 - department_output_loss: 0.6147 - attrition_output_accuracy: 0.9082 - department_output_accuracy: 0.7066 - val_loss: 1.3286 - val_attrition_output_loss: 0.4535 - val_department_output_loss: 0.8751 - val_attrition_output_accuracy: 0.8435 - val_department_output_accuracy: 0.6327\n",
      "Epoch 36/100\n",
      "37/37 [==============================] - 0s 1ms/step - loss: 0.8606 - attrition_output_loss: 0.2508 - department_output_loss: 0.6098 - attrition_output_accuracy: 0.9039 - department_output_accuracy: 0.7279 - val_loss: 1.3371 - val_attrition_output_loss: 0.4575 - val_department_output_loss: 0.8796 - val_attrition_output_accuracy: 0.8401 - val_department_output_accuracy: 0.6190\n",
      "Epoch 37/100\n",
      "37/37 [==============================] - 0s 1ms/step - loss: 0.8515 - attrition_output_loss: 0.2474 - department_output_loss: 0.6041 - attrition_output_accuracy: 0.9124 - department_output_accuracy: 0.7151 - val_loss: 1.3395 - val_attrition_output_loss: 0.4538 - val_department_output_loss: 0.8857 - val_attrition_output_accuracy: 0.8435 - val_department_output_accuracy: 0.6088\n",
      "Epoch 38/100\n",
      "37/37 [==============================] - 0s 2ms/step - loss: 0.8425 - attrition_output_loss: 0.2430 - department_output_loss: 0.5994 - attrition_output_accuracy: 0.9150 - department_output_accuracy: 0.7296 - val_loss: 1.3549 - val_attrition_output_loss: 0.4609 - val_department_output_loss: 0.8940 - val_attrition_output_accuracy: 0.8367 - val_department_output_accuracy: 0.6293\n",
      "Epoch 39/100\n",
      "37/37 [==============================] - 0s 1ms/step - loss: 0.8432 - attrition_output_loss: 0.2458 - department_output_loss: 0.5974 - attrition_output_accuracy: 0.9124 - department_output_accuracy: 0.7236 - val_loss: 1.3663 - val_attrition_output_loss: 0.4740 - val_department_output_loss: 0.8923 - val_attrition_output_accuracy: 0.8299 - val_department_output_accuracy: 0.6395\n",
      "Epoch 40/100\n",
      "37/37 [==============================] - 0s 1ms/step - loss: 0.8303 - attrition_output_loss: 0.2410 - department_output_loss: 0.5893 - attrition_output_accuracy: 0.9124 - department_output_accuracy: 0.7287 - val_loss: 1.3608 - val_attrition_output_loss: 0.4595 - val_department_output_loss: 0.9013 - val_attrition_output_accuracy: 0.8367 - val_department_output_accuracy: 0.6122\n",
      "Epoch 41/100\n",
      "37/37 [==============================] - 0s 1ms/step - loss: 0.8186 - attrition_output_loss: 0.2377 - department_output_loss: 0.5808 - attrition_output_accuracy: 0.9175 - department_output_accuracy: 0.7474 - val_loss: 1.3854 - val_attrition_output_loss: 0.4729 - val_department_output_loss: 0.9125 - val_attrition_output_accuracy: 0.8367 - val_department_output_accuracy: 0.6054\n",
      "Epoch 42/100\n",
      "37/37 [==============================] - 0s 1ms/step - loss: 0.8073 - attrition_output_loss: 0.2374 - department_output_loss: 0.5700 - attrition_output_accuracy: 0.9099 - department_output_accuracy: 0.7389 - val_loss: 1.3770 - val_attrition_output_loss: 0.4671 - val_department_output_loss: 0.9099 - val_attrition_output_accuracy: 0.8333 - val_department_output_accuracy: 0.5952\n",
      "Epoch 43/100\n",
      "37/37 [==============================] - 0s 1ms/step - loss: 0.7961 - attrition_output_loss: 0.2311 - department_output_loss: 0.5650 - attrition_output_accuracy: 0.9218 - department_output_accuracy: 0.7389 - val_loss: 1.4004 - val_attrition_output_loss: 0.4732 - val_department_output_loss: 0.9271 - val_attrition_output_accuracy: 0.8333 - val_department_output_accuracy: 0.5986\n",
      "Epoch 44/100\n",
      "37/37 [==============================] - 0s 1ms/step - loss: 0.7902 - attrition_output_loss: 0.2290 - department_output_loss: 0.5612 - attrition_output_accuracy: 0.9184 - department_output_accuracy: 0.7526 - val_loss: 1.4232 - val_attrition_output_loss: 0.4915 - val_department_output_loss: 0.9317 - val_attrition_output_accuracy: 0.8333 - val_department_output_accuracy: 0.5986\n",
      "Epoch 45/100\n",
      "37/37 [==============================] - 0s 1ms/step - loss: 0.7831 - attrition_output_loss: 0.2279 - department_output_loss: 0.5552 - attrition_output_accuracy: 0.9209 - department_output_accuracy: 0.7560 - val_loss: 1.4034 - val_attrition_output_loss: 0.4752 - val_department_output_loss: 0.9282 - val_attrition_output_accuracy: 0.8469 - val_department_output_accuracy: 0.5986\n",
      "Epoch 46/100\n",
      "37/37 [==============================] - 0s 1ms/step - loss: 0.7708 - attrition_output_loss: 0.2223 - department_output_loss: 0.5485 - attrition_output_accuracy: 0.9269 - department_output_accuracy: 0.7594 - val_loss: 1.4382 - val_attrition_output_loss: 0.4883 - val_department_output_loss: 0.9499 - val_attrition_output_accuracy: 0.8469 - val_department_output_accuracy: 0.5986\n",
      "Epoch 47/100\n",
      "37/37 [==============================] - 0s 1ms/step - loss: 0.7664 - attrition_output_loss: 0.2239 - department_output_loss: 0.5426 - attrition_output_accuracy: 0.9226 - department_output_accuracy: 0.7602 - val_loss: 1.4255 - val_attrition_output_loss: 0.4799 - val_department_output_loss: 0.9456 - val_attrition_output_accuracy: 0.8367 - val_department_output_accuracy: 0.5918\n",
      "Epoch 48/100\n",
      "37/37 [==============================] - 0s 1ms/step - loss: 0.7604 - attrition_output_loss: 0.2247 - department_output_loss: 0.5357 - attrition_output_accuracy: 0.9167 - department_output_accuracy: 0.7560 - val_loss: 1.4580 - val_attrition_output_loss: 0.4891 - val_department_output_loss: 0.9689 - val_attrition_output_accuracy: 0.8503 - val_department_output_accuracy: 0.5646\n",
      "Epoch 49/100\n",
      "37/37 [==============================] - 0s 1ms/step - loss: 0.7547 - attrition_output_loss: 0.2219 - department_output_loss: 0.5328 - attrition_output_accuracy: 0.9235 - department_output_accuracy: 0.7747 - val_loss: 1.4706 - val_attrition_output_loss: 0.4951 - val_department_output_loss: 0.9755 - val_attrition_output_accuracy: 0.8435 - val_department_output_accuracy: 0.5748\n",
      "Epoch 50/100\n",
      "37/37 [==============================] - 0s 1ms/step - loss: 0.7447 - attrition_output_loss: 0.2161 - department_output_loss: 0.5286 - attrition_output_accuracy: 0.9243 - department_output_accuracy: 0.7772 - val_loss: 1.4613 - val_attrition_output_loss: 0.4931 - val_department_output_loss: 0.9682 - val_attrition_output_accuracy: 0.8503 - val_department_output_accuracy: 0.5952\n",
      "Epoch 51/100\n",
      "37/37 [==============================] - 0s 1ms/step - loss: 0.7343 - attrition_output_loss: 0.2127 - department_output_loss: 0.5216 - attrition_output_accuracy: 0.9243 - department_output_accuracy: 0.7764 - val_loss: 1.4983 - val_attrition_output_loss: 0.5183 - val_department_output_loss: 0.9800 - val_attrition_output_accuracy: 0.8231 - val_department_output_accuracy: 0.5680\n",
      "Epoch 52/100\n",
      "37/37 [==============================] - 0s 1ms/step - loss: 0.7309 - attrition_output_loss: 0.2125 - department_output_loss: 0.5184 - attrition_output_accuracy: 0.9218 - department_output_accuracy: 0.7857 - val_loss: 1.5246 - val_attrition_output_loss: 0.5132 - val_department_output_loss: 1.0115 - val_attrition_output_accuracy: 0.8435 - val_department_output_accuracy: 0.5544\n",
      "Epoch 53/100\n",
      "37/37 [==============================] - 0s 1ms/step - loss: 0.7159 - attrition_output_loss: 0.2072 - department_output_loss: 0.5086 - attrition_output_accuracy: 0.9243 - department_output_accuracy: 0.7849 - val_loss: 1.5142 - val_attrition_output_loss: 0.5219 - val_department_output_loss: 0.9922 - val_attrition_output_accuracy: 0.8231 - val_department_output_accuracy: 0.5850\n",
      "Epoch 54/100\n",
      "37/37 [==============================] - 0s 1ms/step - loss: 0.7064 - attrition_output_loss: 0.2061 - department_output_loss: 0.5002 - attrition_output_accuracy: 0.9303 - department_output_accuracy: 0.7900 - val_loss: 1.5049 - val_attrition_output_loss: 0.5047 - val_department_output_loss: 1.0001 - val_attrition_output_accuracy: 0.8537 - val_department_output_accuracy: 0.5680\n",
      "Epoch 55/100\n",
      "37/37 [==============================] - 0s 1ms/step - loss: 0.7107 - attrition_output_loss: 0.2096 - department_output_loss: 0.5012 - attrition_output_accuracy: 0.9243 - department_output_accuracy: 0.7959 - val_loss: 1.5107 - val_attrition_output_loss: 0.5075 - val_department_output_loss: 1.0032 - val_attrition_output_accuracy: 0.8537 - val_department_output_accuracy: 0.5510\n",
      "Epoch 56/100\n",
      "37/37 [==============================] - 0s 1ms/step - loss: 0.6964 - attrition_output_loss: 0.2006 - department_output_loss: 0.4958 - attrition_output_accuracy: 0.9303 - department_output_accuracy: 0.7874 - val_loss: 1.5406 - val_attrition_output_loss: 0.5108 - val_department_output_loss: 1.0298 - val_attrition_output_accuracy: 0.8571 - val_department_output_accuracy: 0.5748\n",
      "Epoch 57/100\n",
      "37/37 [==============================] - 0s 1ms/step - loss: 0.6831 - attrition_output_loss: 0.1978 - department_output_loss: 0.4853 - attrition_output_accuracy: 0.9294 - department_output_accuracy: 0.7900 - val_loss: 1.5774 - val_attrition_output_loss: 0.5165 - val_department_output_loss: 1.0609 - val_attrition_output_accuracy: 0.8537 - val_department_output_accuracy: 0.5884\n",
      "Epoch 58/100\n",
      "37/37 [==============================] - 0s 1ms/step - loss: 0.6802 - attrition_output_loss: 0.1967 - department_output_loss: 0.4835 - attrition_output_accuracy: 0.9260 - department_output_accuracy: 0.7883 - val_loss: 1.5577 - val_attrition_output_loss: 0.5235 - val_department_output_loss: 1.0342 - val_attrition_output_accuracy: 0.8537 - val_department_output_accuracy: 0.5748\n",
      "Epoch 59/100\n",
      "37/37 [==============================] - 0s 1ms/step - loss: 0.6715 - attrition_output_loss: 0.1936 - department_output_loss: 0.4779 - attrition_output_accuracy: 0.9294 - department_output_accuracy: 0.7976 - val_loss: 1.5738 - val_attrition_output_loss: 0.5341 - val_department_output_loss: 1.0397 - val_attrition_output_accuracy: 0.8605 - val_department_output_accuracy: 0.5714\n",
      "Epoch 60/100\n",
      "37/37 [==============================] - 0s 1ms/step - loss: 0.6608 - attrition_output_loss: 0.1907 - department_output_loss: 0.4701 - attrition_output_accuracy: 0.9388 - department_output_accuracy: 0.8112 - val_loss: 1.6086 - val_attrition_output_loss: 0.5402 - val_department_output_loss: 1.0684 - val_attrition_output_accuracy: 0.8537 - val_department_output_accuracy: 0.5544\n",
      "Epoch 61/100\n",
      "37/37 [==============================] - 0s 1ms/step - loss: 0.6526 - attrition_output_loss: 0.1873 - department_output_loss: 0.4653 - attrition_output_accuracy: 0.9320 - department_output_accuracy: 0.8129 - val_loss: 1.6318 - val_attrition_output_loss: 0.5401 - val_department_output_loss: 1.0917 - val_attrition_output_accuracy: 0.8537 - val_department_output_accuracy: 0.5816\n",
      "Epoch 62/100\n",
      "37/37 [==============================] - 0s 1ms/step - loss: 0.6550 - attrition_output_loss: 0.1913 - department_output_loss: 0.4638 - attrition_output_accuracy: 0.9328 - department_output_accuracy: 0.8053 - val_loss: 1.5985 - val_attrition_output_loss: 0.5366 - val_department_output_loss: 1.0619 - val_attrition_output_accuracy: 0.8537 - val_department_output_accuracy: 0.5476\n",
      "Epoch 63/100\n",
      "37/37 [==============================] - 0s 1ms/step - loss: 0.6417 - attrition_output_loss: 0.1845 - department_output_loss: 0.4573 - attrition_output_accuracy: 0.9354 - department_output_accuracy: 0.8087 - val_loss: 1.6184 - val_attrition_output_loss: 0.5541 - val_department_output_loss: 1.0643 - val_attrition_output_accuracy: 0.8435 - val_department_output_accuracy: 0.5748\n",
      "Epoch 64/100\n",
      "37/37 [==============================] - 0s 1ms/step - loss: 0.6298 - attrition_output_loss: 0.1821 - department_output_loss: 0.4477 - attrition_output_accuracy: 0.9354 - department_output_accuracy: 0.8172 - val_loss: 1.6471 - val_attrition_output_loss: 0.5528 - val_department_output_loss: 1.0943 - val_attrition_output_accuracy: 0.8401 - val_department_output_accuracy: 0.5680\n",
      "Epoch 65/100\n",
      "37/37 [==============================] - 0s 1ms/step - loss: 0.6260 - attrition_output_loss: 0.1814 - department_output_loss: 0.4446 - attrition_output_accuracy: 0.9354 - department_output_accuracy: 0.8146 - val_loss: 1.6638 - val_attrition_output_loss: 0.5616 - val_department_output_loss: 1.1022 - val_attrition_output_accuracy: 0.8537 - val_department_output_accuracy: 0.5340\n",
      "Epoch 66/100\n",
      "37/37 [==============================] - 0s 1ms/step - loss: 0.6220 - attrition_output_loss: 0.1797 - department_output_loss: 0.4423 - attrition_output_accuracy: 0.9362 - department_output_accuracy: 0.8138 - val_loss: 1.6628 - val_attrition_output_loss: 0.5614 - val_department_output_loss: 1.1013 - val_attrition_output_accuracy: 0.8469 - val_department_output_accuracy: 0.5646\n",
      "Epoch 67/100\n",
      "37/37 [==============================] - 0s 1ms/step - loss: 0.6134 - attrition_output_loss: 0.1775 - department_output_loss: 0.4359 - attrition_output_accuracy: 0.9388 - department_output_accuracy: 0.8138 - val_loss: 1.6885 - val_attrition_output_loss: 0.5728 - val_department_output_loss: 1.1157 - val_attrition_output_accuracy: 0.8435 - val_department_output_accuracy: 0.5714\n",
      "Epoch 68/100\n",
      "37/37 [==============================] - 0s 1ms/step - loss: 0.6087 - attrition_output_loss: 0.1770 - department_output_loss: 0.4317 - attrition_output_accuracy: 0.9379 - department_output_accuracy: 0.8240 - val_loss: 1.6891 - val_attrition_output_loss: 0.5715 - val_department_output_loss: 1.1176 - val_attrition_output_accuracy: 0.8503 - val_department_output_accuracy: 0.5646\n",
      "Epoch 69/100\n",
      "37/37 [==============================] - 0s 1ms/step - loss: 0.6013 - attrition_output_loss: 0.1798 - department_output_loss: 0.4216 - attrition_output_accuracy: 0.9379 - department_output_accuracy: 0.8257 - val_loss: 1.6962 - val_attrition_output_loss: 0.5708 - val_department_output_loss: 1.1254 - val_attrition_output_accuracy: 0.8469 - val_department_output_accuracy: 0.5374\n",
      "Epoch 70/100\n",
      "37/37 [==============================] - 0s 1ms/step - loss: 0.5929 - attrition_output_loss: 0.1743 - department_output_loss: 0.4186 - attrition_output_accuracy: 0.9388 - department_output_accuracy: 0.8231 - val_loss: 1.7473 - val_attrition_output_loss: 0.5855 - val_department_output_loss: 1.1617 - val_attrition_output_accuracy: 0.8367 - val_department_output_accuracy: 0.5476\n",
      "Epoch 71/100\n",
      "37/37 [==============================] - 0s 1ms/step - loss: 0.5822 - attrition_output_loss: 0.1693 - department_output_loss: 0.4129 - attrition_output_accuracy: 0.9456 - department_output_accuracy: 0.8282 - val_loss: 1.7158 - val_attrition_output_loss: 0.5756 - val_department_output_loss: 1.1402 - val_attrition_output_accuracy: 0.8435 - val_department_output_accuracy: 0.5510\n",
      "Epoch 72/100\n",
      "37/37 [==============================] - 0s 1ms/step - loss: 0.5824 - attrition_output_loss: 0.1679 - department_output_loss: 0.4144 - attrition_output_accuracy: 0.9447 - department_output_accuracy: 0.8257 - val_loss: 1.7711 - val_attrition_output_loss: 0.5954 - val_department_output_loss: 1.1757 - val_attrition_output_accuracy: 0.8469 - val_department_output_accuracy: 0.5510\n",
      "Epoch 73/100\n",
      "37/37 [==============================] - 0s 1ms/step - loss: 0.5762 - attrition_output_loss: 0.1710 - department_output_loss: 0.4052 - attrition_output_accuracy: 0.9405 - department_output_accuracy: 0.8325 - val_loss: 1.8100 - val_attrition_output_loss: 0.6056 - val_department_output_loss: 1.2045 - val_attrition_output_accuracy: 0.8299 - val_department_output_accuracy: 0.5238\n",
      "Epoch 74/100\n",
      "37/37 [==============================] - 0s 1ms/step - loss: 0.5703 - attrition_output_loss: 0.1679 - department_output_loss: 0.4025 - attrition_output_accuracy: 0.9422 - department_output_accuracy: 0.8333 - val_loss: 1.8037 - val_attrition_output_loss: 0.6030 - val_department_output_loss: 1.2007 - val_attrition_output_accuracy: 0.8469 - val_department_output_accuracy: 0.5578\n",
      "Epoch 75/100\n",
      "37/37 [==============================] - 0s 1ms/step - loss: 0.5551 - attrition_output_loss: 0.1611 - department_output_loss: 0.3940 - attrition_output_accuracy: 0.9422 - department_output_accuracy: 0.8333 - val_loss: 1.7945 - val_attrition_output_loss: 0.6028 - val_department_output_loss: 1.1917 - val_attrition_output_accuracy: 0.8401 - val_department_output_accuracy: 0.5408\n",
      "Epoch 76/100\n",
      "37/37 [==============================] - 0s 1ms/step - loss: 0.5483 - attrition_output_loss: 0.1635 - department_output_loss: 0.3848 - attrition_output_accuracy: 0.9439 - department_output_accuracy: 0.8359 - val_loss: 1.8167 - val_attrition_output_loss: 0.6082 - val_department_output_loss: 1.2085 - val_attrition_output_accuracy: 0.8333 - val_department_output_accuracy: 0.5374\n",
      "Epoch 77/100\n",
      "37/37 [==============================] - 0s 1ms/step - loss: 0.5454 - attrition_output_loss: 0.1599 - department_output_loss: 0.3856 - attrition_output_accuracy: 0.9439 - department_output_accuracy: 0.8410 - val_loss: 1.8430 - val_attrition_output_loss: 0.6088 - val_department_output_loss: 1.2342 - val_attrition_output_accuracy: 0.8537 - val_department_output_accuracy: 0.5340\n",
      "Epoch 78/100\n",
      "37/37 [==============================] - 0s 1ms/step - loss: 0.5377 - attrition_output_loss: 0.1582 - department_output_loss: 0.3795 - attrition_output_accuracy: 0.9422 - department_output_accuracy: 0.8435 - val_loss: 1.8868 - val_attrition_output_loss: 0.6119 - val_department_output_loss: 1.2749 - val_attrition_output_accuracy: 0.8503 - val_department_output_accuracy: 0.5476\n",
      "Epoch 79/100\n",
      "37/37 [==============================] - 0s 1ms/step - loss: 0.5328 - attrition_output_loss: 0.1566 - department_output_loss: 0.3762 - attrition_output_accuracy: 0.9473 - department_output_accuracy: 0.8418 - val_loss: 1.8885 - val_attrition_output_loss: 0.6264 - val_department_output_loss: 1.2622 - val_attrition_output_accuracy: 0.8333 - val_department_output_accuracy: 0.5408\n",
      "Epoch 80/100\n",
      "37/37 [==============================] - 0s 1ms/step - loss: 0.5274 - attrition_output_loss: 0.1560 - department_output_loss: 0.3714 - attrition_output_accuracy: 0.9473 - department_output_accuracy: 0.8537 - val_loss: 1.8854 - val_attrition_output_loss: 0.6267 - val_department_output_loss: 1.2587 - val_attrition_output_accuracy: 0.8469 - val_department_output_accuracy: 0.5340\n",
      "Epoch 81/100\n",
      "37/37 [==============================] - 0s 1ms/step - loss: 0.5203 - attrition_output_loss: 0.1523 - department_output_loss: 0.3680 - attrition_output_accuracy: 0.9490 - department_output_accuracy: 0.8520 - val_loss: 1.9407 - val_attrition_output_loss: 0.6377 - val_department_output_loss: 1.3029 - val_attrition_output_accuracy: 0.8333 - val_department_output_accuracy: 0.5476\n",
      "Epoch 82/100\n",
      "37/37 [==============================] - 0s 1ms/step - loss: 0.5128 - attrition_output_loss: 0.1532 - department_output_loss: 0.3597 - attrition_output_accuracy: 0.9464 - department_output_accuracy: 0.8546 - val_loss: 1.9381 - val_attrition_output_loss: 0.6277 - val_department_output_loss: 1.3104 - val_attrition_output_accuracy: 0.8435 - val_department_output_accuracy: 0.5544\n",
      "Epoch 83/100\n",
      "37/37 [==============================] - 0s 1ms/step - loss: 0.5105 - attrition_output_loss: 0.1516 - department_output_loss: 0.3589 - attrition_output_accuracy: 0.9490 - department_output_accuracy: 0.8614 - val_loss: 1.9245 - val_attrition_output_loss: 0.6387 - val_department_output_loss: 1.2858 - val_attrition_output_accuracy: 0.8537 - val_department_output_accuracy: 0.5476\n",
      "Epoch 84/100\n",
      "37/37 [==============================] - 0s 1ms/step - loss: 0.5036 - attrition_output_loss: 0.1467 - department_output_loss: 0.3569 - attrition_output_accuracy: 0.9524 - department_output_accuracy: 0.8512 - val_loss: 1.9591 - val_attrition_output_loss: 0.6587 - val_department_output_loss: 1.3004 - val_attrition_output_accuracy: 0.8231 - val_department_output_accuracy: 0.5408\n",
      "Epoch 85/100\n",
      "37/37 [==============================] - 0s 1ms/step - loss: 0.4912 - attrition_output_loss: 0.1474 - department_output_loss: 0.3439 - attrition_output_accuracy: 0.9541 - department_output_accuracy: 0.8665 - val_loss: 2.0029 - val_attrition_output_loss: 0.6435 - val_department_output_loss: 1.3593 - val_attrition_output_accuracy: 0.8503 - val_department_output_accuracy: 0.5578\n",
      "Epoch 86/100\n",
      "37/37 [==============================] - 0s 1ms/step - loss: 0.5013 - attrition_output_loss: 0.1477 - department_output_loss: 0.3535 - attrition_output_accuracy: 0.9490 - department_output_accuracy: 0.8631 - val_loss: 1.9901 - val_attrition_output_loss: 0.6453 - val_department_output_loss: 1.3447 - val_attrition_output_accuracy: 0.8435 - val_department_output_accuracy: 0.5238\n",
      "Epoch 87/100\n",
      "37/37 [==============================] - 0s 1ms/step - loss: 0.4820 - attrition_output_loss: 0.1427 - department_output_loss: 0.3393 - attrition_output_accuracy: 0.9532 - department_output_accuracy: 0.8656 - val_loss: 2.0218 - val_attrition_output_loss: 0.6521 - val_department_output_loss: 1.3697 - val_attrition_output_accuracy: 0.8537 - val_department_output_accuracy: 0.5442\n",
      "Epoch 88/100\n",
      "37/37 [==============================] - 0s 1ms/step - loss: 0.4873 - attrition_output_loss: 0.1430 - department_output_loss: 0.3443 - attrition_output_accuracy: 0.9524 - department_output_accuracy: 0.8605 - val_loss: 2.0163 - val_attrition_output_loss: 0.6541 - val_department_output_loss: 1.3623 - val_attrition_output_accuracy: 0.8537 - val_department_output_accuracy: 0.5306\n",
      "Epoch 89/100\n",
      "37/37 [==============================] - 0s 1ms/step - loss: 0.4732 - attrition_output_loss: 0.1401 - department_output_loss: 0.3331 - attrition_output_accuracy: 0.9515 - department_output_accuracy: 0.8673 - val_loss: 2.0702 - val_attrition_output_loss: 0.6643 - val_department_output_loss: 1.4059 - val_attrition_output_accuracy: 0.8469 - val_department_output_accuracy: 0.5272\n",
      "Epoch 90/100\n",
      "37/37 [==============================] - 0s 1ms/step - loss: 0.4684 - attrition_output_loss: 0.1378 - department_output_loss: 0.3306 - attrition_output_accuracy: 0.9558 - department_output_accuracy: 0.8784 - val_loss: 2.1021 - val_attrition_output_loss: 0.6800 - val_department_output_loss: 1.4221 - val_attrition_output_accuracy: 0.8537 - val_department_output_accuracy: 0.5544\n",
      "Epoch 91/100\n",
      "37/37 [==============================] - 0s 1ms/step - loss: 0.4639 - attrition_output_loss: 0.1389 - department_output_loss: 0.3250 - attrition_output_accuracy: 0.9549 - department_output_accuracy: 0.8741 - val_loss: 2.0441 - val_attrition_output_loss: 0.6735 - val_department_output_loss: 1.3706 - val_attrition_output_accuracy: 0.8435 - val_department_output_accuracy: 0.5408\n",
      "Epoch 92/100\n",
      "37/37 [==============================] - 0s 1ms/step - loss: 0.4559 - attrition_output_loss: 0.1353 - department_output_loss: 0.3205 - attrition_output_accuracy: 0.9583 - department_output_accuracy: 0.8759 - val_loss: 2.0736 - val_attrition_output_loss: 0.6740 - val_department_output_loss: 1.3995 - val_attrition_output_accuracy: 0.8401 - val_department_output_accuracy: 0.5340\n",
      "Epoch 93/100\n",
      "37/37 [==============================] - 0s 1ms/step - loss: 0.4545 - attrition_output_loss: 0.1360 - department_output_loss: 0.3185 - attrition_output_accuracy: 0.9481 - department_output_accuracy: 0.8759 - val_loss: 2.0912 - val_attrition_output_loss: 0.6807 - val_department_output_loss: 1.4105 - val_attrition_output_accuracy: 0.8469 - val_department_output_accuracy: 0.5306\n",
      "Epoch 94/100\n",
      "37/37 [==============================] - 0s 1ms/step - loss: 0.4455 - attrition_output_loss: 0.1347 - department_output_loss: 0.3107 - attrition_output_accuracy: 0.9575 - department_output_accuracy: 0.8801 - val_loss: 2.1287 - val_attrition_output_loss: 0.6977 - val_department_output_loss: 1.4309 - val_attrition_output_accuracy: 0.8333 - val_department_output_accuracy: 0.5340\n",
      "Epoch 95/100\n",
      "37/37 [==============================] - 0s 1ms/step - loss: 0.4376 - attrition_output_loss: 0.1331 - department_output_loss: 0.3045 - attrition_output_accuracy: 0.9575 - department_output_accuracy: 0.8844 - val_loss: 2.1359 - val_attrition_output_loss: 0.6834 - val_department_output_loss: 1.4526 - val_attrition_output_accuracy: 0.8401 - val_department_output_accuracy: 0.5204\n",
      "Epoch 96/100\n",
      "37/37 [==============================] - 0s 1ms/step - loss: 0.4356 - attrition_output_loss: 0.1318 - department_output_loss: 0.3038 - attrition_output_accuracy: 0.9558 - department_output_accuracy: 0.8852 - val_loss: 2.1828 - val_attrition_output_loss: 0.6956 - val_department_output_loss: 1.4872 - val_attrition_output_accuracy: 0.8469 - val_department_output_accuracy: 0.5476\n",
      "Epoch 97/100\n",
      "37/37 [==============================] - 0s 1ms/step - loss: 0.4359 - attrition_output_loss: 0.1280 - department_output_loss: 0.3079 - attrition_output_accuracy: 0.9609 - department_output_accuracy: 0.8716 - val_loss: 2.2145 - val_attrition_output_loss: 0.7029 - val_department_output_loss: 1.5117 - val_attrition_output_accuracy: 0.8367 - val_department_output_accuracy: 0.5374\n",
      "Epoch 98/100\n",
      "37/37 [==============================] - 0s 1ms/step - loss: 0.4309 - attrition_output_loss: 0.1318 - department_output_loss: 0.2991 - attrition_output_accuracy: 0.9566 - department_output_accuracy: 0.8878 - val_loss: 2.2266 - val_attrition_output_loss: 0.7206 - val_department_output_loss: 1.5060 - val_attrition_output_accuracy: 0.8299 - val_department_output_accuracy: 0.5306\n",
      "Epoch 99/100\n",
      "37/37 [==============================] - 0s 2ms/step - loss: 0.4191 - attrition_output_loss: 0.1261 - department_output_loss: 0.2930 - attrition_output_accuracy: 0.9600 - department_output_accuracy: 0.8912 - val_loss: 2.2501 - val_attrition_output_loss: 0.7198 - val_department_output_loss: 1.5303 - val_attrition_output_accuracy: 0.8503 - val_department_output_accuracy: 0.5340\n",
      "Epoch 100/100\n",
      "37/37 [==============================] - 0s 1ms/step - loss: 0.4129 - attrition_output_loss: 0.1249 - department_output_loss: 0.2880 - attrition_output_accuracy: 0.9617 - department_output_accuracy: 0.8869 - val_loss: 2.2558 - val_attrition_output_loss: 0.7203 - val_department_output_loss: 1.5354 - val_attrition_output_accuracy: 0.8299 - val_department_output_accuracy: 0.5170\n"
     ]
    }
   ],
   "source": [
    "# Train the model\n",
    "\n",
    "history = model.fit(\n",
    "    X_train_scaled,  # Scaled training features\n",
    "    {\"attrition_output\": y_train_attrition_encoded, \"department_output\": y_train_dept_encoded},  # Training targets\n",
    "    epochs=100,\n",
    "    batch_size=32,\n",
    "    validation_data=(X_test_scaled, {\"attrition_output\": y_test_attrition_encoded, \"department_output\": y_test_dept_encoded})\n",
    ")\n"
   ]
  },
  {
   "cell_type": "code",
   "execution_count": 22,
   "metadata": {
    "colab": {
     "base_uri": "https://localhost:8080/"
    },
    "executionInfo": {
     "elapsed": 379,
     "status": "ok",
     "timestamp": 1730699259894,
     "user": {
      "displayName": "Alexander Booth",
      "userId": "02269714993535573104"
     },
     "user_tz": 360
    },
    "id": "VsMoaQlgGc3U",
    "outputId": "636c85ba-ee63-4087-b7d1-00b408f1055a"
   },
   "outputs": [
    {
     "name": "stdout",
     "output_type": "stream",
     "text": [
      "10/10 [==============================] - 0s 729us/step - loss: 2.2558 - attrition_output_loss: 0.7203 - department_output_loss: 1.5354 - attrition_output_accuracy: 0.8299 - department_output_accuracy: 0.5170\n",
      "\n",
      "Test Loss: 2.2557549476623535\n",
      "Test Loss - Attrition: 0.7203257083892822\n",
      "Test Accuracy - Attrition: 1.5354294776916504\n",
      "Test Loss - Department: 0.8299319744110107\n",
      "Test Accuracy - Department: 0.5170068144798279\n"
     ]
    }
   ],
   "source": [
    "# Evaluate the model with the testing data\n",
    "# Evaluate the model on the test set\n",
    "evaluation_metrics = model.evaluate(\n",
    "    X_test_scaled, \n",
    "    {\"attrition_output\": y_test_attrition_encoded, \"department_output\": y_test_dept_encoded}, \n",
    "    verbose=1\n",
    ")\n",
    "\n",
    "# Extract and print the results\n",
    "print(f\"\\nTest Loss: {evaluation_metrics[0]}\")\n",
    "print(f\"Test Loss - Attrition: {evaluation_metrics[1]}\")\n",
    "print(f\"Test Accuracy - Attrition: {evaluation_metrics[2]}\")\n",
    "print(f\"Test Loss - Department: {evaluation_metrics[3]}\")\n",
    "print(f\"Test Accuracy - Department: {evaluation_metrics[4]}\")\n"
   ]
  },
  {
   "cell_type": "code",
   "execution_count": 23,
   "metadata": {
    "colab": {
     "base_uri": "https://localhost:8080/"
    },
    "executionInfo": {
     "elapsed": 113,
     "status": "ok",
     "timestamp": 1730699260004,
     "user": {
      "displayName": "Alexander Booth",
      "userId": "02269714993535573104"
     },
     "user_tz": 360
    },
    "id": "ZlCtlHi0Vt54",
    "outputId": "3a32435c-11cf-48da-81b5-1431d6c00da2"
   },
   "outputs": [
    {
     "name": "stdout",
     "output_type": "stream",
     "text": [
      "Test Accuracy - Attrition: 0.8299\n",
      "Test Accuracy - Department: 0.5170\n"
     ]
    }
   ],
   "source": [
    "# Print the accuracy for both department and attrition\n",
    "# Evaluate the model on the test set\n",
    "test_loss, attrition_loss, department_loss, attrition_accuracy, department_accuracy = model.evaluate(\n",
    "    X_test_scaled, \n",
    "    {\"attrition_output\": y_test_attrition_encoded, \"department_output\": y_test_dept_encoded}, \n",
    "    verbose=0\n",
    ")\n",
    "\n",
    "# Print the results\n",
    "print(f\"Test Accuracy - Attrition: {attrition_accuracy:.4f}\")\n",
    "print(f\"Test Accuracy - Department: {department_accuracy:.4f}\")\n"
   ]
  },
  {
   "cell_type": "markdown",
   "metadata": {
    "id": "eGSyfsZfWOQM"
   },
   "source": [
    "# Summary\n",
    "\n",
    "In the provided space below, briefly answer the following questions.\n",
    "\n",
    "1. Is accuracy the best metric to use on this data? Why or why not?\n",
    "\n",
    "2. What activation functions did you choose for your output layers, and why?\n",
    "\n",
    "3. Can you name a few ways that this model might be improved?"
   ]
  },
  {
   "cell_type": "markdown",
   "metadata": {
    "id": "pi9SLpFnWvbF"
   },
   "source": [
    "---\n",
    "\n",
    "## Answers\n",
    "\n",
    "### 1. Is accuracy the best metric to use on this data? Why or why not?\n",
    "\n",
    "Accuracy is a useful metric, but it may not be the best for this specific problem. Since the dataset deals with predicting both employee attrition and department placement, other metrics like precision, recall, and F1-score could be more informative. For example, if the dataset is imbalanced—meaning there are significantly more employees staying than leaving—accuracy alone may give a misleadingly high score without truly measuring how well the model identifies employees at risk of leaving. For department predictions, accuracy might also struggle if certain departments have very few employees compared to others. Evaluating the model with additional metrics ensures we understand how well it performs across different situations.\n",
    "\n",
    "--\n",
    "\n",
    "### 2. What activation functions did you choose for your output layers, and why?\n",
    "\n",
    "For predicting employee attrition, we used the **softmax** activation function. This function is useful when predicting categories (such as \"leaving\" or \"staying\") because it converts the model's output into probabilities that sum up to 1. This makes it easy to interpret which outcome the model thinks is most likely.\n",
    "\n",
    "Similarly, for predicting the best department fit, we also used **softmax** since this is another multi-class classification problem. It helps distribute probabilities across multiple departments, allowing us to identify which one the model believes is the best fit for each employee.\n",
    "\n",
    "--\n",
    "\n",
    "### 3. Can you name a few ways that this model might be improved?\n",
    "\n",
    "There are several ways to improve the model:\n",
    "\n",
    "- **Feature Engineering**: We could explore adding new meaningful features, such as employee performance over time or interactions between existing features, to provide the model with more useful data.\n",
    "- **Hyperparameter Tuning**: Adjusting settings like the number of layers, neurons per layer, learning rate, or batch size could help the model learn more effectively.\n",
    "- **Class Imbalance Handling**: If one category (like employees who leave) is much smaller than the other, we could use techniques like oversampling, undersampling, or assigning different weights to the loss function to help the model focus more on the underrepresented group.\n",
    "- **More Data**: If possible, collecting more real-world employee data could help the model make better predictions by learning from a wider variety of examples.\n",
    "- **Regularization and Dropout Layers**: Adding dropout layers or regularization techniques can help prevent overfitting, ensuring the model generalizes well to new employee data.\n",
    "\n",
    "Overall, these strategies can make the model more accurate, robust, and useful for HR decision-making.\n",
    "\n",
    "---\n"
   ]
  },
  {
   "cell_type": "markdown",
   "metadata": {},
   "source": [
    "## Further Exploration - Visuals\n",
    "\n",
    "---"
   ]
  },
  {
   "cell_type": "code",
   "execution_count": 24,
   "metadata": {
    "executionInfo": {
     "elapsed": 3,
     "status": "ok",
     "timestamp": 1730699260004,
     "user": {
      "displayName": "Alexander Booth",
      "userId": "02269714993535573104"
     },
     "user_tz": 360
    },
    "id": "ZuQWjGgGXZ3C"
   },
   "outputs": [
    {
     "data": {
      "image/png": "[encoded data removed]",
      "text/plain": [
       "<Figure size 1200x500 with 1 Axes>"
      ]
     },
     "metadata": {},
     "output_type": "display_data"
    },
    {
     "data": {
      "image/png": "[encoded data removed]",
      "text/plain": [
       "<Figure size 1200x500 with 1 Axes>"
      ]
     },
     "metadata": {},
     "output_type": "display_data"
    }
   ],
   "source": [
    "# Set Seaborn style\n",
    "sns.set_style(\"whitegrid\")\n",
    "\n",
    "# Extract loss and accuracy values\n",
    "epochs = range(1, len(history.history['loss']) + 1)\n",
    "\n",
    "# Create a DataFrame for easier plotting\n",
    "history_df = pd.DataFrame(history.history, index=epochs)\n",
    "\n",
    "# Plot Loss for Both Outputs\n",
    "plt.figure(figsize=(12, 5))\n",
    "sns.lineplot(x=epochs, y=history_df['attrition_output_loss'], label='Train Loss - Attrition', linewidth=2)\n",
    "sns.lineplot(x=epochs, y=history_df['val_attrition_output_loss'], label='Validation Loss - Attrition', linestyle=\"dashed\", linewidth=2)\n",
    "sns.lineplot(x=epochs, y=history_df['department_output_loss'], label='Train Loss - Department', linewidth=2)\n",
    "sns.lineplot(x=epochs, y=history_df['val_department_output_loss'], label='Validation Loss - Department', linestyle=\"dashed\", linewidth=2)\n",
    "plt.xlabel(\"Epochs\")\n",
    "plt.ylabel(\"Loss\")\n",
    "plt.title(\"Model Loss Over Epochs\")\n",
    "plt.legend()\n",
    "plt.show()\n",
    "\n",
    "# Plot Accuracy for Both Outputs\n",
    "plt.figure(figsize=(12, 5))\n",
    "sns.lineplot(x=epochs, y=history_df['attrition_output_accuracy'], label='Train Accuracy - Attrition', linewidth=2)\n",
    "sns.lineplot(x=epochs, y=history_df['val_attrition_output_accuracy'], label='Validation Accuracy - Attrition', linestyle=\"dashed\", linewidth=2)\n",
    "sns.lineplot(x=epochs, y=history_df['department_output_accuracy'], label='Train Accuracy - Department', linewidth=2)\n",
    "sns.lineplot(x=epochs, y=history_df['val_department_output_accuracy'], label='Validation Accuracy - Department', linestyle=\"dashed\", linewidth=2)\n",
    "plt.xlabel(\"Epochs\")\n",
    "plt.ylabel(\"Accuracy\")\n",
    "plt.title(\"Model Accuracy Over Epochs\")\n",
    "plt.legend()\n",
    "plt.show()\n"
   ]
  },
  {
   "cell_type": "markdown",
   "metadata": {},
   "source": [
    "---\n",
    "\n",
    "### Model Performance Analysis\n",
    "\n",
    "The visualizations provide insights into the model’s performance over 100 epochs, specifically focusing on **loss and accuracy** for both the **attrition prediction** and **department classification** tasks.\n",
    "\n",
    "#### **Loss Over Epochs**\n",
    "- The **training loss for attrition** (solid blue) consistently decreases, indicating that the model is effectively learning from the data.\n",
    "- The **validation loss for attrition** (dashed orange) follows a similar trend initially but starts to rise slightly after a certain point, which could suggest overfitting.\n",
    "- The **training loss for department classification** (solid green) decreases gradually, suggesting that the model is improving in classifying departments.\n",
    "- The **validation loss for department classification** (dashed red) increases over time, showing that the model is struggling to generalize well on unseen data. This could be due to **class imbalance**, insufficient training data, or a need for **further tuning**.\n",
    "\n",
    "#### **Accuracy Over Epochs**\n",
    "- The **training accuracy for attrition** (solid blue) improves steadily and reaches a high value (~90%), indicating that the model performs well in predicting whether an employee will leave.\n",
    "- The **validation accuracy for attrition** (dashed orange) remains relatively stable, hovering around 85%, which suggests a reasonable generalization but also potential overfitting.\n",
    "- The **training accuracy for department classification** (solid green) improves consistently, reaching approximately 80%, indicating that the model is learning from the data.\n",
    "- The **validation accuracy for department classification** (dashed red) fluctuates and does not improve significantly, staying around **50-60%**, which suggests that the department classification model is not performing well on unseen data.\n",
    "\n",
    "### **Possible Improvements**\n",
    "- **Regularization Techniques**: Applying dropout layers or L2 regularization to reduce overfitting.\n",
    "- **Hyperparameter Tuning**: Adjusting learning rates, batch sizes, and layer sizes for better performance.\n",
    "- **Feature Engineering**: Including additional relevant features that may improve classification accuracy.\n",
    "- **Addressing Class Imbalance**: Using techniques such as oversampling, undersampling, or weighted loss functions to improve department classification performance.\n"
   ]
  },
  {
   "cell_type": "markdown",
   "metadata": {},
   "source": []
  }
 ],
 "metadata": {
  "colab": {
   "provenance": []
  },
  "kernelspec": {
   "display_name": "dev",
   "language": "python",
   "name": "python3"
  },
  "language_info": {
   "codemirror_mode": {
    "name": "ipython",
    "version": 3
   },
   "file_extension": ".py",
   "mimetype": "text/x-python",
   "name": "python",
   "nbconvert_exporter": "python",
   "pygments_lexer": "ipython3",
   "version": "3.10.16"
  }
 },
 "nbformat": 4,
 "nbformat_minor": 0
}
